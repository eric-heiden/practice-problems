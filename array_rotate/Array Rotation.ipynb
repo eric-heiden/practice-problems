{
 "cells": [
  {
   "cell_type": "markdown",
   "metadata": {},
   "source": [
    "# Array Rotation\n",
    "\n",
    "This problem is to rotate a given array to the right by `n` steps.\n",
    "\n",
    "For example:\n",
    "\n",
    "Given `[1, 2, 3]` and `n = 1`, you should return `[3, 1, 2]`\n",
    "\n",
    "Each step, the last element in the array is moved to the front of the array, and the rest are shifted right.\n",
    "\n",
    "Another example:\n",
    "\n",
    "Given `[1, 2, 3, 4, 5]` and `n = 3`, you should return `[3, 4, 5, 1, 2]`\n",
    "\n",
    "## Questions for further understanding\n",
    "\n",
    "1. What is the time complexity of your solution? How about space?\n",
    "2. Can you do this in-place?\n",
    "\n",
    "*Challenge:* There is an O(n) time / O(1) extra space solution."
   ]
  },
  {
   "cell_type": "code",
   "execution_count": 63,
   "metadata": {
    "collapsed": false
   },
   "outputs": [],
   "source": [
    "# stupid but efficient approach: revert subarrays arr[:n] and arr[n:], then revert arr again.\n",
    "def rotate(arr, n):\n",
    "    if len(arr) <= 1:\n",
    "        return arr\n",
    "    while n < 0:\n",
    "        n += len(arr)\n",
    "    n %= len(arr)\n",
    "    \n",
    "    def swap(i, j):\n",
    "        temp = arr[i]\n",
    "        arr[i] = arr[j]\n",
    "        arr[j] = temp\n",
    "        \n",
    "    for i in range(int(n/2)):\n",
    "        swap(i, n-i-1)\n",
    "    for i in range(int((len(arr)-n)/2)):\n",
    "        swap(n+i, len(arr)-i-1)\n",
    "    for i in range(int(len(arr)/2)):\n",
    "        swap(i, len(arr)-i-1)\n",
    "    return arr"
   ]
  },
  {
   "cell_type": "code",
   "execution_count": 67,
   "metadata": {
    "collapsed": false
   },
   "outputs": [],
   "source": [
    "assert(rotate([1,2,3,4,5,6,7], 3) == [4, 5, 6, 7, 1, 2, 3])\n",
    "assert(rotate([1,2,3,4,5,6], 3) == [4, 5, 6, 1, 2, 3])\n",
    "assert(rotate([], 3) == [])\n",
    "assert(rotate([2], 3) == [2])\n",
    "assert(rotate([2,1], -3) == [1,2])\n",
    "assert(rotate([1,2,3], 6) == [1,2,3])\n",
    "assert(rotate([1,2,3], 0) == [1,2,3])"
   ]
  }
 ],
 "metadata": {
  "kernelspec": {
   "display_name": "Python [Root]",
   "language": "python",
   "name": "Python [Root]"
  },
  "language_info": {
   "codemirror_mode": {
    "name": "ipython",
    "version": 3
   },
   "file_extension": ".py",
   "mimetype": "text/x-python",
   "name": "python",
   "nbconvert_exporter": "python",
   "pygments_lexer": "ipython3",
   "version": "3.5.2"
  }
 },
 "nbformat": 4,
 "nbformat_minor": 0
}
